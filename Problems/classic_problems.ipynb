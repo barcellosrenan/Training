{
 "cells": [
  {
   "cell_type": "markdown",
   "metadata": {},
   "source": [
    "### Libraries"
   ]
  },
  {
   "cell_type": "code",
   "execution_count": 10,
   "metadata": {},
   "outputs": [],
   "source": [
    "import numpy as np"
   ]
  },
  {
   "cell_type": "markdown",
   "metadata": {},
   "source": [
    "### Exercise 1"
   ]
  },
  {
   "cell_type": "markdown",
   "metadata": {},
   "source": [
    "__Rotate Array__"
   ]
  },
  {
   "cell_type": "code",
   "execution_count": 16,
   "metadata": {},
   "outputs": [
    {
     "name": "stdout",
     "output_type": "stream",
     "text": [
      "\n",
      " Array:     [ 1.  2.  3.  4.  5.  6.  7.  8.  9. 10.] \n",
      " Rotation:  [ 7.  8.  9. 10.  1.  2.  3.  4.  5.  6.]\n"
     ]
    }
   ],
   "source": [
    "def rotate(n:int, k:int): #FUNCTION TO CREATE AND ROTATE A ARRAY\n",
    "    \"\"\"_summary_\n",
    "\n",
    "    Args:\n",
    "        n (int): array size\n",
    "        k (int): rotate steps\n",
    "\n",
    "    internal vars:\n",
    "        arr (array): array\n",
    "        rot_arry (array): rotate array\n",
    "    \"\"\"\n",
    "    arr = np.zeros(n)\n",
    "    rot_array = np.zeros(n)\n",
    "\n",
    "    for i in range (1, n+1, 1):\n",
    "        arr[i-1] = i\n",
    "    \n",
    "    for j in range(0, n, 1):\n",
    "        rot_array[j] = arr[-k+j]\n",
    "    \n",
    "    print(\"\\n\", \"Array:    \",arr, \"\\n\", \"Rotation: \", rot_array)\n",
    "\n",
    "rotate(10,4) #EXECUTE"
   ]
  },
  {
   "cell_type": "markdown",
   "metadata": {},
   "source": [
    "__Reverse Words in a String__"
   ]
  },
  {
   "cell_type": "code",
   "execution_count": 6,
   "metadata": {},
   "outputs": [
    {
     "name": "stdout",
     "output_type": "stream",
     "text": [
      "!droW olleH\n"
     ]
    }
   ],
   "source": [
    "def reverse_word(word:str):\n",
    "    \"\"\"_summary_\n",
    "\n",
    "    Args:\n",
    "        word (str): Word to reverse\n",
    "        \n",
    "    internal vars:\n",
    "        drow (str): Recive the letters to reverse\n",
    "    \"\"\"    \n",
    "    drow = \"\"\n",
    "\n",
    "    for label, w in enumerate (word):\n",
    "        drow = drow + word[-label-1]\n",
    "\n",
    "    print(drow)\n",
    "\n",
    "reverse_word(\"Hello Word!\")"
   ]
  },
  {
   "cell_type": "markdown",
   "metadata": {},
   "source": [
    "### Exercise 2"
   ]
  },
  {
   "cell_type": "code",
   "execution_count": 17,
   "metadata": {},
   "outputs": [
    {
     "ename": "IndentationError",
     "evalue": "expected an indented block (Temp/ipykernel_16968/3581475467.py, line 17)",
     "output_type": "error",
     "traceback": [
      "\u001b[1;36m  File \u001b[1;32m\"C:\\Users\\barce\\AppData\\Local\\Temp/ipykernel_16968/3581475467.py\"\u001b[1;36m, line \u001b[1;32m17\u001b[0m\n\u001b[1;33m    \u001b[0m\n\u001b[1;37m    ^\u001b[0m\n\u001b[1;31mIndentationError\u001b[0m\u001b[1;31m:\u001b[0m expected an indented block\n"
     ]
    }
   ],
   "source": [
    "def polish_notation(arr):\n",
    "    \"\"\"_summary_\n",
    "\n",
    "    Args:\n",
    "        arr (_type_): _description_\n",
    "\n",
    "        ['2','1','+','3','*']\n",
    "        ['4','13','5','/','+']\n",
    "    \"\"\"     \n",
    "\n",
    "    for i in range(0, len(arr)):\n",
    "        stack_1 = arr[i]\n",
    "        stack_2 = arr[i+1]\n",
    "        \n",
    "        if arr[i] == '+':\n",
    "            '''expression'''\n",
    "        elif arr[i] == '-':\n",
    "            '''expression'''\n",
    "        elif arr[i] == '*':\n",
    "            '''expression'''\n",
    "        elif arr[i] == '/':\n",
    "            '''expression'''\n",
    "\n",
    "        "
   ]
  },
  {
   "cell_type": "code",
   "execution_count": 19,
   "metadata": {},
   "outputs": [
    {
     "data": {
      "text/plain": [
       "'2+2'"
      ]
     },
     "execution_count": 19,
     "metadata": {},
     "output_type": "execute_result"
    }
   ],
   "source": []
  },
  {
   "cell_type": "code",
   "execution_count": null,
   "metadata": {},
   "outputs": [],
   "source": []
  }
 ],
 "metadata": {
  "interpreter": {
   "hash": "5095512d8133358cd560ebaab0af1b680ed76ead9e4a497bf23122656b738136"
  },
  "kernelspec": {
   "display_name": "Python 3.9.7 ('base')",
   "language": "python",
   "name": "python3"
  },
  "language_info": {
   "codemirror_mode": {
    "name": "ipython",
    "version": 3
   },
   "file_extension": ".py",
   "mimetype": "text/x-python",
   "name": "python",
   "nbconvert_exporter": "python",
   "pygments_lexer": "ipython3",
   "version": "3.9.7"
  },
  "orig_nbformat": 4
 },
 "nbformat": 4,
 "nbformat_minor": 2
}
