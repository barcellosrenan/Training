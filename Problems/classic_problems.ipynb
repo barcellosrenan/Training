{
 "cells": [
  {
   "cell_type": "markdown",
   "metadata": {},
   "source": [
    "### Libraries"
   ]
  },
  {
   "cell_type": "code",
   "execution_count": null,
   "metadata": {},
   "outputs": [],
   "source": [
    "import numpy as np"
   ]
  },
  {
   "cell_type": "markdown",
   "metadata": {},
   "source": [
    "### Exercise 1"
   ]
  },
  {
   "cell_type": "markdown",
   "metadata": {},
   "source": [
    "__Rotate Array__"
   ]
  },
  {
   "cell_type": "code",
   "execution_count": null,
   "metadata": {},
   "outputs": [],
   "source": [
    "def rotate(n:int, k:int): #FUNCTION TO CREATE AND ROTATE A ARRAY\n",
    "    \"\"\"_summary_\n",
    "\n",
    "    Args:\n",
    "        n (int): array size\n",
    "        k (int): rotate steps\n",
    "\n",
    "    internal vars:\n",
    "        arr (array): array\n",
    "        rot_arry (array): rotate array\n",
    "    \"\"\"\n",
    "    arr = np.zeros(n)\n",
    "    rot_array = np.zeros(n)\n",
    "\n",
    "    for i in range (1, n+1, 1):\n",
    "        arr[i-1] = i\n",
    "    \n",
    "    for j in range(0, n, 1):\n",
    "        rot_array[j] = arr[-k+j]\n",
    "    \n",
    "    print(\"Array: \",arr, \"\\n\", \"Rotation: \", rot_array)\n",
    "\n",
    "    rotate(10,4) #EXECUTE"
   ]
  },
  {
   "cell_type": "markdown",
   "metadata": {},
   "source": [
    "__Reverse Words in a String__"
   ]
  },
  {
   "cell_type": "code",
   "execution_count": 34,
   "metadata": {},
   "outputs": [
    {
     "name": "stdout",
     "output_type": "stream",
     "text": [
      "!droW olleH\n"
     ]
    }
   ],
   "source": [
    "def reverse_word(word:str):\n",
    "    \"\"\"_summary_\n",
    "\n",
    "    Args:\n",
    "        word (str): Word to reverse\n",
    "        \n",
    "    internal vars:\n",
    "        drow (str): Recive the letters to reverse\n",
    "    \"\"\"    \n",
    "    drow = \"\"\n",
    "\n",
    "    for label, w in enumerate (word):\n",
    "        drow = drow + word[-label-1]\n",
    "\n",
    "    print(drow)\n",
    "\n",
    "reverse_word(\"Hello Word!\")"
   ]
  },
  {
   "cell_type": "markdown",
   "metadata": {},
   "source": [
    "### Exercise 2"
   ]
  },
  {
   "cell_type": "code",
   "execution_count": null,
   "metadata": {},
   "outputs": [],
   "source": []
  }
 ],
 "metadata": {
  "interpreter": {
   "hash": "5095512d8133358cd560ebaab0af1b680ed76ead9e4a497bf23122656b738136"
  },
  "kernelspec": {
   "display_name": "Python 3.9.7 ('base')",
   "language": "python",
   "name": "python3"
  },
  "language_info": {
   "codemirror_mode": {
    "name": "ipython",
    "version": 3
   },
   "file_extension": ".py",
   "mimetype": "text/x-python",
   "name": "python",
   "nbconvert_exporter": "python",
   "pygments_lexer": "ipython3",
   "version": "3.9.7"
  },
  "orig_nbformat": 4
 },
 "nbformat": 4,
 "nbformat_minor": 2
}
