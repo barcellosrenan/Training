{
 "cells": [
  {
   "cell_type": "markdown",
   "metadata": {},
   "source": [
    "### Libraries"
   ]
  },
  {
   "cell_type": "code",
   "execution_count": 10,
   "metadata": {},
   "outputs": [],
   "source": [
    "import numpy as np"
   ]
  },
  {
   "cell_type": "markdown",
   "metadata": {},
   "source": [
    "### Exercise 1"
   ]
  },
  {
   "cell_type": "markdown",
   "metadata": {},
   "source": [
    "__Rotate Array__"
   ]
  },
  {
   "cell_type": "code",
   "execution_count": 16,
   "metadata": {},
   "outputs": [
    {
     "name": "stdout",
     "output_type": "stream",
     "text": [
      "\n",
      " Array:     [ 1.  2.  3.  4.  5.  6.  7.  8.  9. 10.] \n",
      " Rotation:  [ 7.  8.  9. 10.  1.  2.  3.  4.  5.  6.]\n"
     ]
    }
   ],
   "source": [
    "def rotate(n:int, k:int): #FUNCTION TO CREATE AND ROTATE A ARRAY\n",
    "    \"\"\"_summary_\n",
    "\n",
    "    Args:\n",
    "        n (int): array size\n",
    "        k (int): rotate steps\n",
    "\n",
    "    internal vars:\n",
    "        arr (array): array\n",
    "        rot_arry (array): rotate array\n",
    "    \"\"\"\n",
    "    arr = np.zeros(n)\n",
    "    rot_array = np.zeros(n)\n",
    "\n",
    "    for i in range (1, n+1, 1):\n",
    "        arr[i-1] = i\n",
    "    \n",
    "    for j in range(0, n, 1):\n",
    "        rot_array[j] = arr[-k+j]\n",
    "    \n",
    "    print(\"\\n\", \"Array:    \",arr, \"\\n\", \"Rotation: \", rot_array)\n",
    "\n",
    "rotate(10,4) #EXECUTE"
   ]
  },
  {
   "cell_type": "markdown",
   "metadata": {},
   "source": [
    "__Reverse Words in a String__"
   ]
  },
  {
   "cell_type": "code",
   "execution_count": 6,
   "metadata": {},
   "outputs": [
    {
     "name": "stdout",
     "output_type": "stream",
     "text": [
      "!droW olleH\n"
     ]
    }
   ],
   "source": [
    "def reverse_word(word:str):\n",
    "    \"\"\"_summary_\n",
    "\n",
    "    Args:\n",
    "        word (str): Word to reverse\n",
    "        \n",
    "    internal vars:\n",
    "        drow (str): Recive the letters to reverse\n",
    "    \"\"\"    \n",
    "    drow = \"\"\n",
    "\n",
    "    for label, w in enumerate (word):\n",
    "        drow = drow + word[-label-1]\n",
    "\n",
    "    print(drow)\n",
    "\n",
    "reverse_word(\"Hello Word!\")"
   ]
  },
  {
   "cell_type": "markdown",
   "metadata": {},
   "source": [
    "### Exercise 2"
   ]
  },
  {
   "cell_type": "code",
   "execution_count": 64,
   "metadata": {},
   "outputs": [
    {
     "data": {
      "text/plain": [
       "9"
      ]
     },
     "execution_count": 64,
     "metadata": {},
     "output_type": "execute_result"
    }
   ],
   "source": [
    "def polish_notation(arr: List[str]) -> int:\n",
    "    \"\"\"_summary_\n",
    "\n",
    "    Args:\n",
    "        arr (_type_): array in the reverse Polish Notation\n",
    "    \"\"\"     \n",
    "    dp = [] #LIST FOR NUMBER DEPOSIT\n",
    "\n",
    "    for i in arr:\n",
    "        try:    #IF I IS A NUMBER DEPOSIT IN DP\n",
    "            dp.append(int(i))\n",
    "        except ValueError: #ELSE MAKE A OPERATION\n",
    "            operator = i\n",
    "            number_1 = dp.pop() #GETS A NUMBER FROM DEPOSIT\n",
    "            number_2 = dp.pop() #GETS A NUMBER FROM DEPOSIT\n",
    "            \n",
    "            if operator == '+':\n",
    "                dp.append(number_1 + number_2) #ADDS RESULT IN DP\n",
    "            elif operator == '-':\n",
    "                dp.append(number_1 - number_2) #ADDS RESULT IN DP\n",
    "            elif operator == '*':\n",
    "                dp.append(number_1 * number_2) #ADDS RESULT IN DP\n",
    "            elif operator == '/':\n",
    "                dp.append(number_2 // number_1) #ADDS RESULT IN DP\n",
    "\n",
    "    return (dp.pop())\n",
    "    \n",
    "polish_notation(['2','1','+','3','*'])"
   ]
  },
  {
   "cell_type": "markdown",
   "metadata": {},
   "source": [
    "### Exercise 3"
   ]
  },
  {
   "cell_type": "code",
   "execution_count": 106,
   "metadata": {},
   "outputs": [
    {
     "data": {
      "text/plain": [
       "False"
      ]
     },
     "execution_count": 106,
     "metadata": {},
     "output_type": "execute_result"
    }
   ],
   "source": [
    "def isormorfics(s: str, t: str) -> bool:\n",
    "    \"\"\"_summary_\n",
    "\n",
    "    Args:\n",
    "        s (str): String to compare\n",
    "        t (str): String to compare\n",
    "\n",
    "    Returns:\n",
    "        bool: If TRUE THE STRINGS ARE ISOMORPHIC ELSE THE STRINGS ARENT ISOMORPHIC\n",
    "    \"\"\"    \n",
    "    if len(s) != len(t):\n",
    "        return False\n",
    "\n",
    "    dct={}\n",
    "\n",
    "    for letter_s, letter_t in zip(s,t):\n",
    "        try:\n",
    "            if dct[letter_s] != letter_t:\n",
    "                return False\n",
    "        except KeyError:\n",
    "            dct[letter_s] = letter_t\n",
    "        \n",
    "    return True\n",
    "\n",
    "isormorfics('ABAC','XYOZ')"
   ]
  },
  {
   "cell_type": "markdown",
   "metadata": {},
   "source": [
    "### Exercise 4"
   ]
  },
  {
   "cell_type": "code",
   "execution_count": 109,
   "metadata": {},
   "outputs": [
    {
     "data": {
      "text/plain": [
       "'aBA'"
      ]
     },
     "execution_count": 109,
     "metadata": {},
     "output_type": "execute_result"
    }
   ],
   "source": [
    "word = \"ABA\"\n",
    "\n",
    "word[:0]+'a'+word[0+1:]"
   ]
  },
  {
   "cell_type": "code",
   "execution_count": null,
   "metadata": {},
   "outputs": [],
   "source": []
  }
 ],
 "metadata": {
  "interpreter": {
   "hash": "5095512d8133358cd560ebaab0af1b680ed76ead9e4a497bf23122656b738136"
  },
  "kernelspec": {
   "display_name": "Python 3.9.7 ('base')",
   "language": "python",
   "name": "python3"
  },
  "language_info": {
   "codemirror_mode": {
    "name": "ipython",
    "version": 3
   },
   "file_extension": ".py",
   "mimetype": "text/x-python",
   "name": "python",
   "nbconvert_exporter": "python",
   "pygments_lexer": "ipython3",
   "version": "3.9.7"
  },
  "orig_nbformat": 4
 },
 "nbformat": 4,
 "nbformat_minor": 2
}
